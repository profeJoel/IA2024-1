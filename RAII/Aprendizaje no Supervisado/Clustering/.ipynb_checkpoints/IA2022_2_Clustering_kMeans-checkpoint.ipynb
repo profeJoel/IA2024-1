{
 "cells": [
  {
   "cell_type": "markdown",
   "metadata": {
    "id": "p_7_sgEkHdiI"
   },
   "source": [
    "**Carga las tres librerías de siempre**"
   ]
  },
  {
   "cell_type": "code",
   "execution_count": null,
   "metadata": {
    "id": "tgsDFIdMHdiL"
   },
   "outputs": [],
   "source": [
    "import numpy as np\n",
    "import pandas as pd\n",
    "import matplotlib.pyplot as plt"
   ]
  },
  {
   "cell_type": "markdown",
   "metadata": {
    "id": "mCoIKBZEHdiN"
   },
   "source": [
    "**Carga los datos adjuntos a este ejercicio en un dataframe**"
   ]
  },
  {
   "cell_type": "code",
   "execution_count": null,
   "metadata": {
    "id": "iW91DxqdHdiN"
   },
   "outputs": [],
   "source": [
    "data_df = pd.read_table(\"data_1.txt\")"
   ]
  },
  {
   "cell_type": "markdown",
   "metadata": {
    "id": "oSgxrXASHdiO"
   },
   "source": [
    "**Crea la matrix de features X y el vector de labels**"
   ]
  },
  {
   "cell_type": "code",
   "execution_count": null,
   "metadata": {
    "id": "VjQqPm_YHdiO"
   },
   "outputs": [],
   "source": [
    "X = data_df.drop(columns=['label']).values\n",
    "y = data_df['label'].values"
   ]
  },
  {
   "cell_type": "markdown",
   "metadata": {
    "id": "Y-vnqMeSHdiO"
   },
   "source": [
    "**Calcula para KMeans y Agglomerative Clustering el índice `adjusted_rand_score`, `homogeneity_score`, `completeness_score` con el vector de labels de verdad**"
   ]
  },
  {
   "cell_type": "code",
   "execution_count": null,
   "metadata": {
    "id": "yo3hvRUeHdiP"
   },
   "outputs": [],
   "source": [
    "from sklearn.cluster import KMeans, AgglomerativeClustering"
   ]
  },
  {
   "cell_type": "code",
   "execution_count": null,
   "metadata": {
    "id": "S8O9vP3NHdiP"
   },
   "outputs": [],
   "source": [
    "from sklearn.metrics import adjusted_rand_score,\\\n",
    "homogeneity_score, completeness_score"
   ]
  },
  {
   "cell_type": "code",
   "execution_count": null,
   "metadata": {
    "colab": {
     "base_uri": "https://localhost:8080/"
    },
    "id": "bqMisiHTHdiP",
    "outputId": "594a4068-c705-4693-9c04-e924d5206d6f"
   },
   "outputs": [
    {
     "name": "stdout",
     "output_type": "stream",
     "text": [
      "0.22922320455657447\n",
      "0.2614982068604538\n",
      "0.31864761553879367\n"
     ]
    }
   ],
   "source": [
    "km = KMeans(n_clusters=2, random_state=0)\n",
    "\n",
    "print(adjusted_rand_score(labels_true=y, labels_pred=km.fit_predict(X)))\n",
    "print(homogeneity_score(labels_true=y, labels_pred=km.fit_predict(X)))\n",
    "print(completeness_score(labels_true=y, labels_pred=km.fit_predict(X)))"
   ]
  },
  {
   "cell_type": "code",
   "execution_count": null,
   "metadata": {
    "colab": {
     "base_uri": "https://localhost:8080/"
    },
    "id": "XR6liIhNHdiQ",
    "outputId": "521ea17d-94eb-4493-9831-9d37304777b8"
   },
   "outputs": [
    {
     "name": "stdout",
     "output_type": "stream",
     "text": [
      "0.24092310286001004\n",
      "0.29249002766487286\n",
      "0.3605299081124267\n"
     ]
    }
   ],
   "source": [
    "agg = AgglomerativeClustering(n_clusters=2)\n",
    "\n",
    "print(adjusted_rand_score(labels_true=y, labels_pred=agg.fit_predict(X)))\n",
    "print(homogeneity_score(labels_true=y, labels_pred=agg.fit_predict(X)))\n",
    "print(completeness_score(labels_true=y, labels_pred=agg.fit_predict(X)))"
   ]
  },
  {
   "cell_type": "markdown",
   "metadata": {
    "id": "RwoXFv_VHdiS"
   },
   "source": [
    "**Puede que los datos tengan una estructura más rica. Mediante el método elbow (Acuérdate de que el atributo *inertia_* nos daba la información que necesitamos saber y plotear una vez fitteado el kmeans), estima el número óptimo de clusters. Haz lo mismo mediante el método silhouette**"
   ]
  },
  {
   "cell_type": "code",
   "execution_count": null,
   "metadata": {
    "id": "bbyBPdZ0HdiS"
   },
   "outputs": [],
   "source": [
    "from sklearn.metrics import silhouette_score\n",
    "\n",
    "sil_scores = []\n",
    "for clus in np.arange(2,10):\n",
    "    km = KMeans(n_clusters=clus, random_state=0)\n",
    "    \n",
    "    sil_scores.append(silhouette_score(X, km.fit_predict(X)))"
   ]
  },
  {
   "cell_type": "code",
   "execution_count": null,
   "metadata": {
    "colab": {
     "base_uri": "https://localhost:8080/",
     "height": 282
    },
    "id": "3CWCVXoWHdiT",
    "outputId": "e8ba337b-c1ff-4bc7-816e-5e6f2a56d6c2"
   },
   "outputs": [
    {
     "data": {
      "text/plain": [
       "[<matplotlib.lines.Line2D at 0x7f8fad4b79d0>]"
      ]
     },
     "execution_count": 10,
     "metadata": {},
     "output_type": "execute_result"
    },
    {
     "data": {
      "image/png": "[encoded data removed]",
      "text/plain": [
       "<Figure size 432x288 with 1 Axes>"
      ]
     },
     "metadata": {
      "needs_background": "light"
     },
     "output_type": "display_data"
    }
   ],
   "source": [
    "plt.plot(np.arange(2,10), sil_scores)"
   ]
  },
  {
   "cell_type": "code",
   "execution_count": null,
   "metadata": {
    "id": "kj2kcOFoHdiT"
   },
   "outputs": [],
   "source": [
    "elbow_scores = []\n",
    "for clus in np.arange(1,10):\n",
    "    km = KMeans(n_clusters=clus, random_state=0)\n",
    "    km.fit(X)\n",
    "    elbow_scores.append(km.inertia_)"
   ]
  },
  {
   "cell_type": "code",
   "execution_count": null,
   "metadata": {
    "colab": {
     "base_uri": "https://localhost:8080/",
     "height": 282
    },
    "id": "usV2KhQzHdiT",
    "outputId": "d8e13a9a-c98a-4f57-c0a1-9ef79f4e3da6"
   },
   "outputs": [
    {
     "data": {
      "text/plain": [
       "[<matplotlib.lines.Line2D at 0x7f8fad4a5bd0>]"
      ]
     },
     "execution_count": 12,
     "metadata": {},
     "output_type": "execute_result"
    },
    {
     "data": {
      "image/png": "[encoded data removed]",
      "text/plain": [
       "<Figure size 432x288 with 1 Axes>"
      ]
     },
     "metadata": {
      "needs_background": "light"
     },
     "output_type": "display_data"
    }
   ],
   "source": [
    "plt.plot(np.arange(1,10), elbow_scores)"
   ]
  }
 ],
 "metadata": {
  "colab": {
   "provenance": []
  },
  "kernelspec": {
   "display_name": "Python 3 (ipykernel)",
   "language": "python",
   "name": "python3"
  },
  "language_info": {
   "codemirror_mode": {
    "name": "ipython",
    "version": 3
   },
   "file_extension": ".py",
   "mimetype": "text/x-python",
   "name": "python",
   "nbconvert_exporter": "python",
   "pygments_lexer": "ipython3",
   "version": "3.11.5"
  }
 },
 "nbformat": 4,
 "nbformat_minor": 1
}
